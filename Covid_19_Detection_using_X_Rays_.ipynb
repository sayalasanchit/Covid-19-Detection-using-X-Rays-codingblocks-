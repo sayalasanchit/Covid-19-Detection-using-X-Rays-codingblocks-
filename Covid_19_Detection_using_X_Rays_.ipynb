{
  "nbformat": 4,
  "nbformat_minor": 0,
  "metadata": {
    "colab": {
      "name": "Covid-19 Detection using X-Rays .ipynb",
      "provenance": [],
      "collapsed_sections": []
    },
    "kernelspec": {
      "name": "python3",
      "display_name": "Python 3"
    },
    "accelerator": "GPU"
  },
  "cells": [
    {
      "cell_type": "markdown",
      "metadata": {
        "id": "YRKH1_0pDSrW"
      },
      "source": [
        "Notebook link: https://colab.research.google.com/drive/1MVyYmrcTGfrSi-0R5V4QQ-HCluBb1OA5#scrollTo=YRKH1_0pDSrW"
      ]
    },
    {
      "cell_type": "code",
      "metadata": {
        "colab": {
          "base_uri": "https://localhost:8080/"
        },
        "id": "J3DOwr0fB-FB",
        "outputId": "5156f350-2645-499f-b06c-70fe7ab3f13c"
      },
      "source": [
        "!wget http://cb.lk/covid_19"
      ],
      "execution_count": 1,
      "outputs": [
        {
          "output_type": "stream",
          "text": [
            "--2021-03-04 21:20:16--  http://cb.lk/covid_19\n",
            "Resolving cb.lk (cb.lk)... 159.89.170.74\n",
            "Connecting to cb.lk (cb.lk)|159.89.170.74|:80... connected.\n",
            "HTTP request sent, awaiting response... 301 Moved Permanently\n",
            "Location: https://cb.lk/covid_19 [following]\n",
            "--2021-03-04 21:20:18--  https://cb.lk/covid_19\n",
            "Connecting to cb.lk (cb.lk)|159.89.170.74|:443... connected.\n",
            "HTTP request sent, awaiting response... 302 Found\n",
            "Location: https://www.dropbox.com/s/7rjw6oet4za01op/CovidDataset-20200427T133042Z-001.zip?dl=0 [following]\n",
            "--2021-03-04 21:20:19--  https://www.dropbox.com/s/7rjw6oet4za01op/CovidDataset-20200427T133042Z-001.zip?dl=0\n",
            "Resolving www.dropbox.com (www.dropbox.com)... 162.125.1.18, 2620:100:601a:18::a27d:712\n",
            "Connecting to www.dropbox.com (www.dropbox.com)|162.125.1.18|:443... connected.\n",
            "HTTP request sent, awaiting response... 301 Moved Permanently\n",
            "Location: /s/raw/7rjw6oet4za01op/CovidDataset-20200427T133042Z-001.zip [following]\n",
            "--2021-03-04 21:20:19--  https://www.dropbox.com/s/raw/7rjw6oet4za01op/CovidDataset-20200427T133042Z-001.zip\n",
            "Reusing existing connection to www.dropbox.com:443.\n",
            "HTTP request sent, awaiting response... 302 Found\n",
            "Location: https://uc8df070bc1d98a74c8d8d9f3fc9.dl.dropboxusercontent.com/cd/0/inline/BKH_pZxRBg6g_ltWULQv7g5SCrn6ciaL2WitP6tgPq_T2MGfCpQnQo9R-s91jBUfjpnQNRuhJ2uWK2bo_9MKu_8nPyexkGLNLqb9obHsEspI2MMYHUDywaKmMq59Vu35EV97a5mKAaUJF7B-sJX092Zf/file# [following]\n",
            "--2021-03-04 21:20:19--  https://uc8df070bc1d98a74c8d8d9f3fc9.dl.dropboxusercontent.com/cd/0/inline/BKH_pZxRBg6g_ltWULQv7g5SCrn6ciaL2WitP6tgPq_T2MGfCpQnQo9R-s91jBUfjpnQNRuhJ2uWK2bo_9MKu_8nPyexkGLNLqb9obHsEspI2MMYHUDywaKmMq59Vu35EV97a5mKAaUJF7B-sJX092Zf/file\n",
            "Resolving uc8df070bc1d98a74c8d8d9f3fc9.dl.dropboxusercontent.com (uc8df070bc1d98a74c8d8d9f3fc9.dl.dropboxusercontent.com)... 162.125.1.15, 2620:100:601a:15::a27d:70f\n",
            "Connecting to uc8df070bc1d98a74c8d8d9f3fc9.dl.dropboxusercontent.com (uc8df070bc1d98a74c8d8d9f3fc9.dl.dropboxusercontent.com)|162.125.1.15|:443... connected.\n",
            "HTTP request sent, awaiting response... 302 Found\n",
            "Location: /cd/0/inline2/BKHg_6BncUjrqfch0hhgoMgbVVElLrnzHq6XFaOYKEp297vjiF1Mq-9M--r6KQX-8umHWyX_M1WYBEC8IvjBX58yVMdCEAJohLpq0UgIkz6XdJU47B894ORYJxddxBViAxkVdRsfgCf5zqWjbxWHkqWaAFTHoh2VE7QL6SUNy0bg-nNKCbUgHmTbMowzN0XVE3hR2pgR9N8xSPuvbwf91M5lA-jLNYHtmNKewOC8yphcQrtwwgr66_mppn5e5bUMVMwhmJeW3dItjTG1zBo83PHPi0qWAKzhMSphBCkcVg3I5kl7YVyuGkwcEoKiEj_W3uOstSk5lyKRVv4USlB2K3Q8UynPCrKvnEgqyuLAJJa_sJ5-5C9h1teYgxdhM474N-o/file [following]\n",
            "--2021-03-04 21:20:20--  https://uc8df070bc1d98a74c8d8d9f3fc9.dl.dropboxusercontent.com/cd/0/inline2/BKHg_6BncUjrqfch0hhgoMgbVVElLrnzHq6XFaOYKEp297vjiF1Mq-9M--r6KQX-8umHWyX_M1WYBEC8IvjBX58yVMdCEAJohLpq0UgIkz6XdJU47B894ORYJxddxBViAxkVdRsfgCf5zqWjbxWHkqWaAFTHoh2VE7QL6SUNy0bg-nNKCbUgHmTbMowzN0XVE3hR2pgR9N8xSPuvbwf91M5lA-jLNYHtmNKewOC8yphcQrtwwgr66_mppn5e5bUMVMwhmJeW3dItjTG1zBo83PHPi0qWAKzhMSphBCkcVg3I5kl7YVyuGkwcEoKiEj_W3uOstSk5lyKRVv4USlB2K3Q8UynPCrKvnEgqyuLAJJa_sJ5-5C9h1teYgxdhM474N-o/file\n",
            "Reusing existing connection to uc8df070bc1d98a74c8d8d9f3fc9.dl.dropboxusercontent.com:443.\n",
            "HTTP request sent, awaiting response... 200 OK\n",
            "Length: 140830621 (134M) [application/zip]\n",
            "Saving to: ‘covid_19’\n",
            "\n",
            "covid_19            100%[===================>] 134.31M  67.2MB/s    in 2.0s    \n",
            "\n",
            "2021-03-04 21:20:22 (67.2 MB/s) - ‘covid_19’ saved [140830621/140830621]\n",
            "\n"
          ],
          "name": "stdout"
        }
      ]
    },
    {
      "cell_type": "code",
      "metadata": {
        "colab": {
          "base_uri": "https://localhost:8080/"
        },
        "id": "6Le35CMeB-5D",
        "outputId": "3f71b884-e53f-4c5b-e6b4-3840cbb65c84"
      },
      "source": [
        "!ls"
      ],
      "execution_count": 2,
      "outputs": [
        {
          "output_type": "stream",
          "text": [
            "covid_19  sample_data\n"
          ],
          "name": "stdout"
        }
      ]
    },
    {
      "cell_type": "code",
      "metadata": {
        "colab": {
          "base_uri": "https://localhost:8080/"
        },
        "id": "j8t4z29NCHUW",
        "outputId": "73f4fea0-704d-42d8-c038-120bf3aaf98e"
      },
      "source": [
        "!unzip covid_19\r\n",
        "!ls"
      ],
      "execution_count": 3,
      "outputs": [
        {
          "output_type": "stream",
          "text": [
            "Archive:  covid_19\n",
            "  inflating: CovidDataset/Val/Covid/88de9d8c39e946abd495b37cd07d89e5-6531-0.jpg  \n",
            "  inflating: CovidDataset/Val/Covid/covid-19-pneumonia-8.jpg  \n",
            "  inflating: CovidDataset/Val/Covid/85E52EB3-56E9-4D67-82DA-DEA247C82886.jpeg  \n",
            "  inflating: CovidDataset/Val/Covid/4-x-day1.jpg  \n",
            "  inflating: CovidDataset/Val/Covid/covid-19-pneumonia-53.jpg  \n",
            "  inflating: CovidDataset/Val/Covid/4e43e48d52c9e2d4c6c1fb9bc1544f_jumbo.jpeg  \n",
            "  inflating: CovidDataset/Val/Covid/covid-19-pneumonia-35-1.jpg  \n",
            "  inflating: CovidDataset/Val/Covid/53EC07C9-5CC6-4BE4-9B6F-D7B0D72AAA7E.jpeg  \n",
            "  inflating: CovidDataset/Val/Covid/6CB4EFC6-68FA-4CD5-940C-BEFA8DAFE9A7.jpeg  \n",
            "  inflating: CovidDataset/Val/Covid/58cb9263f16e94305c730685358e4e_jumbo.jpeg  \n",
            "  inflating: CovidDataset/Val/Covid/6b3bdbc31f65230b8cdcc3cef5f8ba8a-40ac-0.jpg  \n",
            "  inflating: CovidDataset/Val/Covid/auntminnie-d-2020_01_28_23_51_6665_2020_01_28_Vietnam_coronavirus.jpeg  \n",
            "  inflating: CovidDataset/Val/Covid/6b44464d-73a7-4cf3-bbb6-ffe7168300e3.annot.original.jpeg  \n",
            "  inflating: CovidDataset/Val/Covid/88de9d8c39e946abd495b37cd07d89e5-2ee6-0.jpg  \n",
            "  inflating: CovidDataset/Val/Covid/31BA3780-2323-493F-8AED-62081B9C383B.jpeg  \n",
            "  inflating: CovidDataset/Val/Covid/B2D20576-00B7-4519-A415-72DE29C90C34.jpeg  \n",
            "  inflating: CovidDataset/Val/Covid/6C94A287-C059-46A0-8600-AFB95F4727B7.jpeg  \n",
            "  inflating: CovidDataset/Train/Covid/1-s2.0-S1684118220300682-main.pdf-003-b2.png  \n",
            "  inflating: CovidDataset/Val/Covid/41591_2020_819_Fig1_HTML.webp-day5.png  \n",
            "  inflating: CovidDataset/Val/Covid/41591_2020_819_Fig1_HTML.webp-day10.png  \n",
            "  inflating: CovidDataset/Train/Covid/1-s2.0-S1684118220300682-main.pdf-003-b1.png  \n",
            "  inflating: CovidDataset/Val/Covid/16654_2_1.jpg  \n",
            "  inflating: CovidDataset/Train/Covid/nCoV-radiol.2020200269.fig1-day7.jpeg  \n",
            "  inflating: CovidDataset/Val/Covid/auntminnie-c-2020_01_28_23_51_6665_2020_01_28_Vietnam_coronavirus.jpeg  \n",
            "  inflating: CovidDataset/Train/Covid/7-fatal-covid19.jpg  \n",
            "  inflating: CovidDataset/Train/Covid/auntminnie-b-2020_01_28_23_51_6665_2020_01_28_Vietnam_coronavirus.jpeg  \n",
            "  inflating: CovidDataset/Train/Normal/NORMAL2-IM-0986-0001.jpeg  \n",
            "  inflating: CovidDataset/Train/Normal/IM-0332-0001.jpeg  \n",
            "  inflating: CovidDataset/Train/Covid/extubation-13.jpg  \n",
            "  inflating: CovidDataset/Val/Covid/covid-19-pneumonia-35-2.jpg  \n",
            "  inflating: CovidDataset/Train/Normal/NORMAL2-IM-1337-0001.jpeg  \n",
            "  inflating: CovidDataset/Val/Covid/covid-19-pneumonia-12.jpg  \n",
            "  inflating: CovidDataset/Train/Normal/IM-0644-0001-0002.jpeg  \n",
            "  inflating: CovidDataset/Train/Covid/ryct.2020200034.fig5-day7.jpeg  \n",
            "  inflating: CovidDataset/Val/Covid/7AF6C1AF-D249-4BD2-8C26-449304105D03.jpeg  \n",
            "  inflating: CovidDataset/Train/Covid/covid-19-pneumonia-15-PA.jpg  \n",
            "  inflating: CovidDataset/Train/Covid/1-s2.0-S1684118220300608-main.pdf-002.jpg  \n",
            "  inflating: CovidDataset/Train/Normal/IM-0528-0001.jpeg  \n",
            "  inflating: CovidDataset/Train/Covid/80446565-E090-4187-A031-9D3CEAA586C8.jpeg  \n",
            "  inflating: CovidDataset/Train/Covid/1-s2.0-S0929664620300449-gr2_lrg-d.jpg  \n",
            "  inflating: CovidDataset/Train/Covid/covid-19-pneumonia-bilateral.jpg  \n",
            "  inflating: CovidDataset/Train/Normal/NORMAL2-IM-1020-0001-0001.jpeg  \n",
            "  inflating: CovidDataset/Train/Covid/E63574A7-4188-4C8D-8D17-9D67A18A1AFA.jpeg  \n",
            "  inflating: CovidDataset/Train/Normal/IM-0327-0001.jpeg  \n",
            "  inflating: CovidDataset/Train/Covid/AR-1.jpg  \n",
            "  inflating: CovidDataset/Train/Covid/F2DE909F-E19C-4900-92F5-8F435B031AC6.jpeg  \n",
            "  inflating: CovidDataset/Val/Normal/NORMAL2-IM-0851-0001.jpeg  \n",
            "  inflating: CovidDataset/Train/Covid/covid-19-pneumonia-2.jpg  \n",
            "  inflating: CovidDataset/Train/Normal/IM-0539-0001.jpeg  \n",
            "  inflating: CovidDataset/Train/Normal/IM-0495-0001.jpeg  \n",
            "  inflating: CovidDataset/Train/Normal/IM-0533-0001-0002.jpeg  \n",
            "  inflating: CovidDataset/Train/Normal/IM-0724-0001.jpeg  \n",
            "  inflating: CovidDataset/Train/Covid/1.CXRCTThoraximagesofCOVID-19fromSingapore.pdf-001-fig2a.png  \n",
            "  inflating: CovidDataset/Train/Covid/1-s2.0-S0140673620303706-fx1_lrg.jpg  \n",
            "  inflating: CovidDataset/Train/Normal/IM-0491-0001-0002.jpeg  \n",
            "  inflating: CovidDataset/Train/Covid/covid-19-pneumonia-58-day-9.jpg  \n",
            "  inflating: CovidDataset/Train/Normal/IM-0555-0001.jpeg  \n",
            "  inflating: CovidDataset/Train/Covid/1.CXRCTThoraximagesofCOVID-19fromSingapore.pdf-000-fig1b.png  \n",
            "  inflating: CovidDataset/Train/Normal/IM-0326-0001.jpeg  \n",
            "  inflating: CovidDataset/Train/Covid/covid-19-caso-70-1-PA.jpg  \n",
            "  inflating: CovidDataset/Train/Covid/1.CXRCTThoraximagesofCOVID-19fromSingapore.pdf-001-fig2b.png  \n",
            "  inflating: CovidDataset/Val/Normal/NORMAL2-IM-0730-0001.jpeg  \n",
            "  inflating: CovidDataset/Train/Normal/IM-0451-0001.jpeg  \n",
            "  inflating: CovidDataset/Val/Covid/7C69C012-7479-493F-8722-ABC29C60A2DD.jpeg  \n",
            "  inflating: CovidDataset/Train/Covid/16660_2_1.jpg  \n",
            "  inflating: CovidDataset/Train/Covid/1-s2.0-S1684118220300608-main.pdf-001.jpg  \n",
            "  inflating: CovidDataset/Train/Covid/kjr-21-e24-g003-l-a.jpg  \n",
            "  inflating: CovidDataset/Train/Covid/nejmoa2001191_f1-PA.jpeg  \n",
            "  inflating: CovidDataset/Train/Normal/IM-0534-0001.jpeg  \n",
            "  inflating: CovidDataset/Train/Covid/kjr-21-e24-g002-l-a.jpg  \n",
            "  inflating: CovidDataset/Train/Covid/covid-19-pneumonia-38-pa.jpg  \n",
            "  inflating: CovidDataset/Train/Normal/NORMAL2-IM-0529-0001.jpeg  \n",
            "  inflating: CovidDataset/Train/Covid/9C34AF49-E589-44D5-92D3-168B3B04E4A6.jpeg  \n",
            "  inflating: CovidDataset/Train/Normal/IM-0221-0001.jpeg  \n",
            "  inflating: CovidDataset/Val/Normal/NORMAL2-IM-1191-0001.jpeg  \n",
            "  inflating: CovidDataset/Train/Normal/NORMAL2-IM-0831-0001.jpeg  \n",
            "  inflating: CovidDataset/Train/Normal/IM-0500-0001.jpeg  \n",
            "  inflating: CovidDataset/Val/Normal/NORMAL2-IM-1228-0001.jpeg  \n",
            "  inflating: CovidDataset/Train/Covid/extubation-1.jpg  \n",
            "  inflating: CovidDataset/Train/Covid/covid-19-infection-exclusive-gastrointestinal-symptoms-l.png  \n",
            "  inflating: CovidDataset/Val/Normal/NORMAL2-IM-1037-0001.jpeg  \n",
            "  inflating: CovidDataset/Train/Normal/NORMAL2-IM-0956-0001.jpeg  \n",
            "  inflating: CovidDataset/Train/Normal/NORMAL2-IM-0847-0001.jpeg  \n",
            "  inflating: CovidDataset/Train/Normal/IM-0389-0001.jpeg  \n",
            "  inflating: CovidDataset/Train/Normal/IM-0660-0001-0001.jpeg  \n",
            "  inflating: CovidDataset/Train/Covid/16672_1_1.jpg  \n",
            "  inflating: CovidDataset/Train/Normal/IM-0700-0001.jpeg  \n",
            "  inflating: CovidDataset/Train/Normal/NORMAL2-IM-1305-0001.jpeg  \n",
            "  inflating: CovidDataset/Train/Covid/16660_4_1.jpg  \n",
            "  inflating: CovidDataset/Val/Covid/353889E0-A1E8-4F9E-A0B8-F24F36BCFBFB.jpeg  \n",
            "  inflating: CovidDataset/Train/Covid/covid-19-pneumonia-22-day2-pa.png  \n",
            "  inflating: CovidDataset/Train/Normal/IM-0472-0001.jpeg  \n",
            "  inflating: CovidDataset/Train/Normal/NORMAL2-IM-1202-0001.jpeg  \n",
            "  inflating: CovidDataset/Train/Normal/NORMAL2-IM-1188-0001.jpeg  \n",
            "  inflating: CovidDataset/Train/Covid/2C26F453-AF3B-4517-BB9E-802CF2179543.jpeg  \n",
            "  inflating: CovidDataset/Train/Normal/NORMAL2-IM-1290-0001.jpeg  \n",
            "  inflating: CovidDataset/Train/Normal/NORMAL2-IM-1346-0001.jpeg  \n",
            "  inflating: CovidDataset/Train/Normal/NORMAL2-IM-1345-0001-0001.jpeg  \n",
            "  inflating: CovidDataset/Train/Covid/radiol.2020200274.fig3d.png  \n",
            "  inflating: CovidDataset/Train/Normal/IM-0669-0001.jpeg  \n",
            "  inflating: CovidDataset/Train/Normal/IM-0270-0001.jpeg  \n",
            "  inflating: CovidDataset/Train/Covid/covid-19-pneumonia-28.png  \n",
            "  inflating: CovidDataset/Train/Covid/ryct.2020200034.fig2.jpeg  \n",
            "  inflating: CovidDataset/Train/Normal/NORMAL2-IM-1287-0001.jpeg  \n",
            "  inflating: CovidDataset/Train/Covid/1.CXRCTThoraximagesofCOVID-19fromSingapore.pdf-000-fig1a.png  \n",
            "  inflating: CovidDataset/Train/Normal/NORMAL2-IM-0626-0001.jpeg  \n",
            "  inflating: CovidDataset/Train/Normal/IM-0543-0001.jpeg  \n",
            "  inflating: CovidDataset/Val/Normal/NORMAL2-IM-0857-0001.jpeg  \n",
            "  inflating: CovidDataset/Val/Normal/NORMAL2-IM-0905-0001.jpeg  \n",
            "  inflating: CovidDataset/Train/Covid/1-s2.0-S0929664620300449-gr2_lrg-a.jpg  \n",
            "  inflating: CovidDataset/Val/Covid/16654_1_1.png  \n",
            "  inflating: CovidDataset/Train/Covid/kjr-21-e24-g001-l-a.jpg  \n",
            "  inflating: CovidDataset/Train/Normal/IM-0433-0001.jpeg  \n",
            "  inflating: CovidDataset/Train/Covid/covid-19-pneumonia-58-day-10.jpg  \n",
            "  inflating: CovidDataset/Val/Covid/16654_4_1.jpg  \n",
            "  inflating: CovidDataset/Val/Normal/NORMAL2-IM-0790-0001.jpeg  \n",
            "  inflating: CovidDataset/Train/Normal/NORMAL2-IM-1326-0001.jpeg  \n",
            "  inflating: CovidDataset/Train/Normal/IM-0563-0001.jpeg  \n",
            "  inflating: CovidDataset/Train/Covid/ae6c954c0039de4b5edee53865ffee43-e6c8-0.jpg  \n",
            "  inflating: CovidDataset/Val/Covid/23E99E2E-447C-46E5-8EB2-D35D12473C39.png  \n",
            "  inflating: CovidDataset/Train/Covid/gr1_lrg-a.jpg  \n",
            "  inflating: CovidDataset/Train/Normal/IM-0564-0001.jpeg  \n",
            "  inflating: CovidDataset/Train/Normal/NORMAL2-IM-0499-0001.jpeg  \n",
            "  inflating: CovidDataset/Train/Covid/16663_1_1.jpg  \n",
            "  inflating: CovidDataset/Train/Covid/extubation-8.jpg  \n",
            "  inflating: CovidDataset/Train/Covid/paving.jpg  \n",
            "  inflating: CovidDataset/Train/Normal/IM-0529-0001.jpeg  \n",
            "  inflating: CovidDataset/Train/Normal/IM-0425-0001.jpeg  \n",
            "  inflating: CovidDataset/Train/Normal/IM-0439-0001.jpeg  \n",
            "  inflating: CovidDataset/Train/Normal/IM-0491-0001.jpeg  \n",
            "  inflating: CovidDataset/Train/Normal/IM-0337-0001.jpeg  \n",
            "  inflating: CovidDataset/Train/Covid/all14238-fig-0001-m-b.jpg  \n",
            "  inflating: CovidDataset/Train/Covid/covid-19-infection-exclusive-gastrointestinal-symptoms-pa.png  \n",
            "  inflating: CovidDataset/Train/Normal/NORMAL2-IM-1320-0001.jpeg  \n",
            "  inflating: CovidDataset/Train/Covid/1.CXRCTThoraximagesofCOVID-19fromSingapore.pdf-002-fig3b.png  \n",
            "  inflating: CovidDataset/Train/Normal/NORMAL2-IM-0815-0001.jpeg  \n",
            "  inflating: CovidDataset/Train/Covid/nejmoa2001191_f5-PA.jpeg  \n",
            "  inflating: CovidDataset/Train/Normal/NORMAL2-IM-1336-0001.jpeg  \n",
            "  inflating: CovidDataset/Train/Normal/IM-0369-0001.jpeg  \n",
            "  inflating: CovidDataset/Train/Normal/NORMAL2-IM-1300-0001.jpeg  \n",
            "  inflating: CovidDataset/Train/Normal/NORMAL2-IM-1295-0001.jpeg  \n",
            "  inflating: CovidDataset/Train/Normal/NORMAL2-IM-0518-0001.jpeg  \n",
            "  inflating: CovidDataset/Train/Covid/covid-19-pneumonia-34.png  \n",
            "  inflating: CovidDataset/Train/Normal/IM-0385-0001.jpeg  \n",
            "  inflating: CovidDataset/Train/Covid/F63AB6CE-1968-4154-A70F-913AF154F53D.jpeg  \n",
            "  inflating: CovidDataset/Val/Normal/NORMAL2-IM-0842-0001.jpeg  \n",
            "  inflating: CovidDataset/Val/Normal/NORMAL2-IM-0416-0001-0001.jpeg  \n",
            "  inflating: CovidDataset/Val/Normal/NORMAL2-IM-1275-0001.jpeg  \n",
            "  inflating: CovidDataset/Train/Normal/IM-0467-0001.jpeg  \n",
            "  inflating: CovidDataset/Train/Normal/NORMAL2-IM-1344-0001.jpeg  \n",
            "  inflating: CovidDataset/Train/Normal/IM-0301-0001.jpeg  \n",
            "  inflating: CovidDataset/Train/Normal/IM-0421-0001.jpeg  \n",
            "  inflating: CovidDataset/Train/Covid/ryct.2020200034.fig5-day0.jpeg  \n",
            "  inflating: CovidDataset/Train/Covid/covid-19-pneumonia-58-day-3.jpg  \n",
            "  inflating: CovidDataset/Train/Covid/covid-19-pneumonia-mild.JPG  \n",
            "  inflating: CovidDataset/Val/Normal/NORMAL2-IM-0859-0001.jpeg  \n",
            "  inflating: CovidDataset/Val/Normal/NORMAL2-IM-1237-0001.jpeg  \n",
            "  inflating: CovidDataset/Train/Normal/NORMAL2-IM-1103-0001-0001.jpeg  \n",
            "  inflating: CovidDataset/Train/Covid/1-s2.0-S1684118220300682-main.pdf-002-a2.png  \n",
            "  inflating: CovidDataset/Val/Normal/NORMAL2-IM-0535-0001-0002.jpeg  \n",
            "  inflating: CovidDataset/Train/Covid/1.CXRCTThoraximagesofCOVID-19fromSingapore.pdf-003-fig4b.png  \n",
            "  inflating: CovidDataset/Train/Normal/IM-0461-0001.jpeg  \n",
            "  inflating: CovidDataset/Train/Normal/IM-0372-0001.jpeg  \n",
            "  inflating: CovidDataset/Train/Normal/IM-0666-0001-0001.jpeg  \n",
            "  inflating: CovidDataset/Train/Normal/NORMAL2-IM-0840-0001.jpeg  \n",
            "  inflating: CovidDataset/Train/Covid/ryct.2020200034.fig5-day4.jpeg  \n",
            "  inflating: CovidDataset/Train/Normal/NORMAL2-IM-0798-0001.jpeg  \n",
            "  inflating: CovidDataset/Train/Normal/IM-0351-0001.jpeg  \n",
            "  inflating: CovidDataset/Train/Covid/auntminnie-a-2020_01_28_23_51_6665_2020_01_28_Vietnam_coronavirus.jpeg  \n",
            "  inflating: CovidDataset/Train/Covid/1-s2.0-S1684118220300682-main.pdf-002-a1.png  \n",
            "  inflating: CovidDataset/Val/Normal/NORMAL2-IM-1240-0001.jpeg  \n",
            "  inflating: CovidDataset/Train/Covid/93FE0BB1-022D-4F24-9727-987A07975FFB.jpeg  \n",
            "  inflating: CovidDataset/Train/Covid/16660_1_1.jpg  \n",
            "  inflating: CovidDataset/Train/Covid/figure1-5e71be566aa8714a04de3386-98-left.jpeg  \n",
            "  inflating: CovidDataset/Train/Normal/IM-0703-0001.jpeg  \n",
            "  inflating: CovidDataset/Train/Covid/covid-19-pneumonia-7-PA.jpg  \n",
            "  inflating: CovidDataset/Train/Normal/NORMAL2-IM-1277-0001-0002.jpeg  \n",
            "  inflating: CovidDataset/Train/Covid/8FDE8DBA-CFBD-4B4C-B1A4-6F36A93B7E87.jpeg  \n",
            "  inflating: CovidDataset/Train/Normal/IM-0482-0001.jpeg  \n",
            "  inflating: CovidDataset/Train/Normal/IM-0656-0001-0002.jpeg  \n",
            "  inflating: CovidDataset/Train/Covid/16664_1_1.jpg  \n",
            "  inflating: CovidDataset/Train/Normal/IM-0430-0001.jpeg  \n",
            "  inflating: CovidDataset/Train/Covid/covid-19-pneumonia-67.jpeg  \n",
            "  inflating: CovidDataset/Train/Covid/ciaa199.pdf-001-a.png  \n",
            "  inflating: CovidDataset/Train/Normal/IM-0187-0001.jpeg  \n",
            "  inflating: CovidDataset/Val/Normal/NORMAL2-IM-0652-0001.jpeg  \n",
            "  inflating: CovidDataset/Train/Normal/IM-0691-0001.jpeg  \n",
            "  inflating: CovidDataset/Train/Covid/CD50BA96-6982-4C80-AE7B-5F67ACDBFA56.jpeg  \n",
            "  inflating: CovidDataset/Train/Normal/NORMAL2-IM-0976-0001.jpeg  \n",
            "  inflating: CovidDataset/Train/Covid/covid-19-pneumonia-20-pa-on-admission.jpg  \n",
            "  inflating: CovidDataset/Train/Covid/1-s2.0-S0929664620300449-gr2_lrg-c.jpg  \n",
            "  inflating: CovidDataset/Train/Covid/fff49165-b22d-4bb4-b9d1-d5d62c52436c.annot.original.png  \n",
            "  inflating: CovidDataset/Train/Covid/1.CXRCTThoraximagesofCOVID-19fromSingapore.pdf-002-fig3a.png  \n",
            "  inflating: CovidDataset/Val/Normal/NORMAL2-IM-0395-0001.jpeg  \n",
            "  inflating: CovidDataset/Train/Normal/IM-0182-0001.jpeg  \n",
            "  inflating: CovidDataset/Train/Covid/covid-19-pneumonia-evolution-over-a-week-1-day0-PA.jpg  \n",
            "  inflating: CovidDataset/Val/Normal/NORMAL2-IM-0914-0001.jpeg  \n",
            "  inflating: CovidDataset/Train/Covid/covid-19-pneumonia-30-PA.jpg  \n",
            "  inflating: CovidDataset/Train/Covid/nejmc2001573_f1a.jpeg  \n",
            "  inflating: CovidDataset/Train/Covid/kjr-21-e25-g001-l-a.jpg  \n",
            "  inflating: CovidDataset/Val/Normal/NORMAL2-IM-0873-0001.jpeg  \n",
            "  inflating: CovidDataset/Train/Normal/NORMAL2-IM-0501-0001.jpeg  \n",
            "  inflating: CovidDataset/Train/Normal/IM-0667-0001.jpeg  \n",
            "  inflating: CovidDataset/Train/Normal/IM-0551-0001-0002.jpeg  \n",
            "  inflating: CovidDataset/Train/Normal/IM-0176-0001.jpeg  \n",
            "  inflating: CovidDataset/Train/Covid/lancet-case2b.jpg  \n",
            "  inflating: CovidDataset/Train/Normal/IM-0713-0001.jpeg  \n",
            "  inflating: CovidDataset/Train/Covid/all14238-fig-0001-m-c.jpg  \n",
            "  inflating: CovidDataset/Val/Covid/covid-19-pneumonia-14-PA.png  \n",
            "  inflating: CovidDataset/Val/Normal/NORMAL2-IM-0851-0001-0001.jpeg  \n",
            "  inflating: CovidDataset/Train/Normal/NORMAL2-IM-1154-0001-0002.jpeg  \n",
            "  inflating: CovidDataset/Train/Normal/IM-0619-0001.jpeg  \n",
            "  inflating: CovidDataset/Val/Normal/NORMAL2-IM-0441-0001.jpeg  \n",
            "  inflating: CovidDataset/Val/Normal/NORMAL2-IM-0765-0001.jpeg  \n",
            "  inflating: CovidDataset/Train/Normal/IM-0172-0001.jpeg  \n",
            "  inflating: CovidDataset/Train/Normal/IM-0551-0001-0001.jpeg  \n",
            "  inflating: CovidDataset/Train/Covid/gr1_lrg-b.jpg  \n",
            "  inflating: CovidDataset/Train/Covid/1-s2.0-S0929664620300449-gr2_lrg-b.jpg  \n",
            "  inflating: CovidDataset/Train/Normal/IM-0514-0001.jpeg  \n",
            "  inflating: CovidDataset/Train/Covid/covid-19-pneumonia-20.jpg  \n",
            "  inflating: CovidDataset/Train/Normal/IM-0544-0001.jpeg  \n",
            "  inflating: CovidDataset/Val/Normal/NORMAL2-IM-1022-0001.jpeg  \n",
            "  inflating: CovidDataset/Train/Normal/NORMAL2-IM-0935-0001.jpeg  \n",
            "  inflating: CovidDataset/Train/Covid/covid-19-pneumonia-22-day1-pa.png  \n",
            "  inflating: CovidDataset/Train/Normal/NORMAL2-IM-1288-0001.jpeg  \n",
            "  inflating: CovidDataset/Train/Covid/16669_1_1.jpeg  \n",
            "  inflating: CovidDataset/Train/Covid/nejmoa2001191_f4.jpeg  \n",
            "  inflating: CovidDataset/Val/Normal/NORMAL2-IM-0462-0001.jpeg  \n",
            "  inflating: CovidDataset/Val/Normal/NORMAL2-IM-0894-0001.jpeg  \n",
            "  inflating: CovidDataset/Train/Covid/nejmc2001573_f1b.jpeg  \n",
            "  inflating: CovidDataset/Train/Normal/NORMAL2-IM-1094-0001-0001.jpeg  \n",
            "  inflating: CovidDataset/Train/Normal/IM-0543-0001-0002.jpeg  \n",
            "  inflating: CovidDataset/Train/Covid/16669_3_1.jpeg  \n",
            "  inflating: CovidDataset/Train/Covid/covid-19-pneumonia-58-day-7.jpg  \n",
            "  inflating: CovidDataset/Train/Normal/IM-0536-0001.jpeg  \n",
            "  inflating: CovidDataset/Train/Normal/NORMAL2-IM-1214-0001.jpeg  \n",
            "  inflating: CovidDataset/Train/Covid/AR-2.jpg  \n",
            "  inflating: CovidDataset/Train/Covid/9fdd3c3032296fd04d2cad5d9070d4_jumbo.jpeg  \n",
            "  inflating: CovidDataset/Train/Covid/1B734A89-A1BF-49A8-A1D3-66FAFA4FAC5D.jpeg  \n",
            "  inflating: CovidDataset/Train/Normal/IM-0156-0001.jpeg  \n",
            "  inflating: CovidDataset/Train/Normal/NORMAL2-IM-1111-0001.jpeg  \n",
            "  inflating: CovidDataset/Train/Covid/FE9F9A5D-2830-46F9-851B-1FF4534959BE.jpeg  \n",
            "  inflating: CovidDataset/Train/Normal/IM-0429-0001.jpeg  \n",
            "  inflating: CovidDataset/Train/Covid/covid-19-pneumonia-44-day-0.jpeg  \n",
            "  inflating: CovidDataset/Val/Normal/NORMAL2-IM-0869-0001.jpeg  \n",
            "  inflating: CovidDataset/Train/Covid/figure1-5e75d0940b71e1b702629659-98-right.jpeg  \n",
            "  inflating: CovidDataset/Train/Covid/03BF7561-A9BA-4C3C-B8A0-D3E585F73F3C.jpeg  \n",
            "  inflating: CovidDataset/Train/Covid/ciaa199.pdf-001-c.png  \n",
            "  inflating: CovidDataset/Train/Covid/extubation-4.jpg  \n",
            "  inflating: CovidDataset/Train/Normal/IM-0556-0001.jpeg  \n",
            "  inflating: CovidDataset/Train/Covid/1.CXRCTThoraximagesofCOVID-19fromSingapore.pdf-003-fig4a.png  \n",
            "  inflating: CovidDataset/Train/Covid/covid-19-pneumonia-19.jpg  \n",
            "  inflating: CovidDataset/Train/Normal/IM-0392-0001.jpeg  \n",
            "  inflating: CovidDataset/Train/Normal/IM-0530-0001.jpeg  \n",
            "  inflating: CovidDataset/Train/Normal/IM-0261-0001.jpeg  \n",
            "  inflating: CovidDataset/Train/Covid/1312A392-67A3-4EBF-9319-810CF6DA5EF6.jpeg  \n",
            "  inflating: CovidDataset/Train/Normal/IM-0525-0001.jpeg  \n",
            "  inflating: CovidDataset/Train/Covid/lancet-case2a.jpg  \n",
            "  inflating: CovidDataset/Train/Covid/ciaa199.pdf-001-b.png  \n",
            "  inflating: CovidDataset/Train/Normal/NORMAL2-IM-0941-0001.jpeg  \n",
            "  inflating: CovidDataset/Train/Normal/IM-0488-0001.jpeg  \n",
            "  inflating: CovidDataset/Train/Covid/nejmoa2001191_f3-PA.jpeg  \n",
            "  inflating: CovidDataset/Train/Normal/IM-0447-0001.jpeg  \n",
            "  inflating: CovidDataset/Train/Covid/2966893D-5DDF-4B68-9E2B-4979D5956C8E.jpeg  \n",
            "  inflating: CovidDataset/Train/Covid/ryct.2020200028.fig1a.jpeg  \n",
            "  inflating: CovidDataset/Train/Normal/IM-0688-0001.jpeg  \n",
            "  inflating: CovidDataset/Train/Covid/16660_3_1.jpg  \n",
            "  inflating: CovidDataset/Val/Normal/NORMAL2-IM-1045-0001.jpeg  \n",
            "  inflating: CovidDataset/Train/Normal/NORMAL2-IM-0978-0001.jpeg  \n",
            "  inflating: CovidDataset/Train/Covid/2-chest-filmc.jpg  \n",
            "  inflating: CovidDataset/Val/Normal/NORMAL2-IM-0678-0001.jpeg  \n",
            "  inflating: CovidDataset/Train/Normal/NORMAL2-IM-0573-0001.jpeg  \n",
            "  inflating: CovidDataset/Train/Normal/IM-0365-0001.jpeg  \n",
            "  inflating: CovidDataset/Train/Normal/IM-0300-0001.jpeg  \n",
            "  inflating: CovidDataset/Train/Normal/IM-0242-0001.jpeg  \n",
            "  inflating: CovidDataset/Train/Covid/F4341CE7-73C9-45C6-99C8-8567A5484B63.jpeg  \n",
            "  inflating: CovidDataset/Train/Normal/NORMAL2-IM-1019-0001.jpeg  \n",
            "  inflating: CovidDataset/Train/Covid/01E392EE-69F9-4E33-BFCE-E5C968654078.jpeg  \n",
            "  inflating: CovidDataset/Train/Normal/IM-0648-0001.jpeg  \n",
            "  inflating: CovidDataset/Val/Normal/NORMAL2-IM-0408-0001.jpeg  \n",
            "  inflating: CovidDataset/Train/Covid/yxppt-2020-02-19_00-51-27_287214-day8.jpg  \n",
            "  inflating: CovidDataset/Train/Normal/IM-0635-0001.jpeg  \n",
            "  inflating: CovidDataset/Train/Covid/radiol.2020200490.fig3.jpeg  \n",
            "  inflating: CovidDataset/Val/Normal/NORMAL2-IM-1060-0001.jpeg  \n",
            "covid_19  CovidDataset\tsample_data\n"
          ],
          "name": "stdout"
        }
      ]
    },
    {
      "cell_type": "code",
      "metadata": {
        "id": "KjkNCiVHCM3L"
      },
      "source": [
        "train_path=\"CovidDataset/Train\"\r\n",
        "val_path=\"CovidDataset/Val\""
      ],
      "execution_count": 4,
      "outputs": []
    },
    {
      "cell_type": "code",
      "metadata": {
        "id": "2wE1Vs-oDD01"
      },
      "source": [
        "import numpy as np\r\n",
        "import matplotlib.pyplot as plt\r\n",
        "import keras\r\n",
        "from keras.layers import *\r\n",
        "from keras.models import Sequential, load_model\r\n",
        "from keras.preprocessing import image"
      ],
      "execution_count": 20,
      "outputs": []
    },
    {
      "cell_type": "code",
      "metadata": {
        "id": "r24c4p0aDgcm"
      },
      "source": [
        "# CNN model\r\n",
        "model=Sequential()\r\n",
        "model.add(Conv2D(32, kernel_size=(3, 3,), activation='relu', input_shape=(224, 224, 3)))\r\n",
        "\r\n",
        "model.add(Conv2D(64, (3, 3), activation='relu'))\r\n",
        "model.add(MaxPool2D(pool_size=(2, 2)))\r\n",
        "model.add(Dropout(0.25))\r\n",
        "\r\n",
        "model.add(Conv2D(128, (3, 3), activation='relu'))\r\n",
        "model.add(MaxPool2D(pool_size=(2, 2)))\r\n",
        "model.add(Dropout(0.25))\r\n",
        "\r\n",
        "model.add(Flatten())\r\n",
        "model.add(Dense(64, activation='relu'))\r\n",
        "model.add(Dropout(0.5))\r\n",
        "model.add(Dense(1, activation='sigmoid'))\r\n",
        "\r\n",
        "model.compile(loss=keras.losses.binary_crossentropy, optimizer='adam', metrics='accuracy')"
      ],
      "execution_count": 6,
      "outputs": []
    },
    {
      "cell_type": "code",
      "metadata": {
        "id": "dHugnQHvFmAc"
      },
      "source": [
        "# Image generators\r\n",
        "train_datagen=image.ImageDataGenerator(\r\n",
        "    rescale=1.0/255,\r\n",
        "    shear_range=0.2,\r\n",
        "    zoom_range=0.2,\r\n",
        "    horizontal_flip=True\r\n",
        ")\r\n",
        "val_datagen=image.ImageDataGenerator(rescale=1.0/255)"
      ],
      "execution_count": 7,
      "outputs": []
    },
    {
      "cell_type": "code",
      "metadata": {
        "colab": {
          "base_uri": "https://localhost:8080/"
        },
        "id": "hCgI74yzGrps",
        "outputId": "d9cd1012-9b32-4bcb-d0cc-3188b263c817"
      },
      "source": [
        "train_generator=train_datagen.flow_from_directory(train_path, target_size=(224, 224), batch_size=32, class_mode='binary')\r\n",
        "val_generator=val_datagen.flow_from_directory(val_path, target_size=(224, 224), batch_size=32, class_mode='binary')"
      ],
      "execution_count": 13,
      "outputs": [
        {
          "output_type": "stream",
          "text": [
            "Found 224 images belonging to 2 classes.\n",
            "Found 60 images belonging to 2 classes.\n"
          ],
          "name": "stdout"
        }
      ]
    },
    {
      "cell_type": "code",
      "metadata": {
        "colab": {
          "base_uri": "https://localhost:8080/"
        },
        "id": "sXXMsBWDHG4k",
        "outputId": "7452c8a0-15f6-43ff-cce6-c40f38046a81"
      },
      "source": [
        "# Class labels\r\n",
        "label2idx=train_generator.class_indices\r\n",
        "print(label2idx)"
      ],
      "execution_count": 12,
      "outputs": [
        {
          "output_type": "stream",
          "text": [
            "{'Covid': 0, 'Normal': 1}\n"
          ],
          "name": "stdout"
        }
      ]
    },
    {
      "cell_type": "code",
      "metadata": {
        "colab": {
          "base_uri": "https://localhost:8080/"
        },
        "id": "VqHqkDhBHXpa",
        "outputId": "feda16b5-a116-4f72-8cbc-f0f56720a657"
      },
      "source": [
        "hist=model.fit_generator(train_generator, steps_per_epoch=7, epochs=12, validation_data=val_generator, validation_steps=2)"
      ],
      "execution_count": 14,
      "outputs": [
        {
          "output_type": "stream",
          "text": [
            "/usr/local/lib/python3.7/dist-packages/tensorflow/python/keras/engine/training.py:1844: UserWarning: `Model.fit_generator` is deprecated and will be removed in a future version. Please use `Model.fit`, which supports generators.\n",
            "  warnings.warn('`Model.fit_generator` is deprecated and '\n"
          ],
          "name": "stderr"
        },
        {
          "output_type": "stream",
          "text": [
            "Epoch 1/12\n",
            "7/7 [==============================] - 44s 2s/step - loss: 4.1378 - accuracy: 0.5528 - val_loss: 0.6718 - val_accuracy: 0.5000\n",
            "Epoch 2/12\n",
            "7/7 [==============================] - 9s 1s/step - loss: 0.6142 - accuracy: 0.6673 - val_loss: 0.5575 - val_accuracy: 0.9167\n",
            "Epoch 3/12\n",
            "7/7 [==============================] - 9s 1s/step - loss: 0.4792 - accuracy: 0.7689 - val_loss: 0.3556 - val_accuracy: 0.9500\n",
            "Epoch 4/12\n",
            "7/7 [==============================] - 9s 1s/step - loss: 0.3318 - accuracy: 0.8497 - val_loss: 0.2211 - val_accuracy: 0.9500\n",
            "Epoch 5/12\n",
            "7/7 [==============================] - 9s 1s/step - loss: 0.2757 - accuracy: 0.8901 - val_loss: 0.2117 - val_accuracy: 0.9500\n",
            "Epoch 6/12\n",
            "7/7 [==============================] - 9s 1s/step - loss: 0.2709 - accuracy: 0.8913 - val_loss: 0.1708 - val_accuracy: 0.9667\n",
            "Epoch 7/12\n",
            "7/7 [==============================] - 9s 1s/step - loss: 0.2339 - accuracy: 0.9172 - val_loss: 0.1212 - val_accuracy: 0.9667\n",
            "Epoch 8/12\n",
            "7/7 [==============================] - 9s 1s/step - loss: 0.1135 - accuracy: 0.9600 - val_loss: 0.1255 - val_accuracy: 0.9667\n",
            "Epoch 9/12\n",
            "7/7 [==============================] - 9s 1s/step - loss: 0.2546 - accuracy: 0.9070 - val_loss: 0.0861 - val_accuracy: 0.9667\n",
            "Epoch 10/12\n",
            "7/7 [==============================] - 9s 1s/step - loss: 0.1265 - accuracy: 0.9625 - val_loss: 0.0762 - val_accuracy: 0.9667\n",
            "Epoch 11/12\n",
            "7/7 [==============================] - 9s 1s/step - loss: 0.0791 - accuracy: 0.9657 - val_loss: 0.0945 - val_accuracy: 0.9667\n",
            "Epoch 12/12\n",
            "7/7 [==============================] - 9s 1s/step - loss: 0.0636 - accuracy: 0.9886 - val_loss: 0.0579 - val_accuracy: 0.9667\n"
          ],
          "name": "stdout"
        }
      ]
    },
    {
      "cell_type": "code",
      "metadata": {
        "id": "LtwjzElQKAwb"
      },
      "source": [
        "# Saving the model\r\n",
        "model.save(\"model_adv.h5\")"
      ],
      "execution_count": 15,
      "outputs": []
    },
    {
      "cell_type": "code",
      "metadata": {
        "colab": {
          "base_uri": "https://localhost:8080/"
        },
        "id": "41T5LsSzKtKI",
        "outputId": "4c90fc00-51fe-470e-8017-c13627d5b900"
      },
      "source": [
        "# Evaluation\r\n",
        "print(\"Train\", model.evaluate_generator(train_generator))\r\n",
        "print(\"Val\", model.evaluate_generator(val_generator))"
      ],
      "execution_count": 17,
      "outputs": [
        {
          "output_type": "stream",
          "text": [
            "/usr/local/lib/python3.7/dist-packages/tensorflow/python/keras/engine/training.py:1877: UserWarning: `Model.evaluate_generator` is deprecated and will be removed in a future version. Please use `Model.evaluate`, which supports generators.\n",
            "  warnings.warn('`Model.evaluate_generator` is deprecated and '\n"
          ],
          "name": "stderr"
        },
        {
          "output_type": "stream",
          "text": [
            "[0.05648036673665047, 0.9866071343421936]\n",
            "[0.05786680430173874, 0.9666666388511658]\n"
          ],
          "name": "stdout"
        }
      ]
    },
    {
      "cell_type": "code",
      "metadata": {
        "id": "OseFCmdwLXys"
      },
      "source": [
        "# Making predicions\r\n",
        "model=load_model(\"model_adv.h5\") # Loading the saved model\r\n",
        "Y_actual=[]\r\n",
        "Y_test=[]"
      ],
      "execution_count": 21,
      "outputs": []
    },
    {
      "cell_type": "code",
      "metadata": {
        "colab": {
          "base_uri": "https://localhost:8080/"
        },
        "id": "Fih7XM5qL_Fi",
        "outputId": "03f8ba55-9189-4b10-93e1-8ac1925e007f"
      },
      "source": [
        "import os\r\n",
        "for img_name in os.listdir(os.path.join(val_path, \"Normal/\")):\r\n",
        "  img=image.load_img(os.path.join(val_path, \"Normal/\")+img_name, target_size=(224, 224))\r\n",
        "  img=image.img_to_array(img)\r\n",
        "  img=np.expand_dims(img, axis=0)\r\n",
        "  p=model.predict_classes(img)\r\n",
        "  Y_test.append(p[0, 0])\r\n",
        "  Y_actual.append(label2idx[\"Normal\"])\r\n",
        "\r\n",
        "for img_name in os.listdir(os.path.join(val_path, \"Covid/\")):\r\n",
        "  img=image.load_img(os.path.join(val_path, \"Covid/\")+img_name, target_size=(224, 224))\r\n",
        "  img=image.img_to_array(img)\r\n",
        "  img=np.expand_dims(img, axis=0)\r\n",
        "  p=model.predict_classes(img)\r\n",
        "  Y_test.append(p[0, 0])\r\n",
        "  Y_actual.append(label2idx[\"Covid\"])"
      ],
      "execution_count": 25,
      "outputs": [
        {
          "output_type": "stream",
          "text": [
            "/usr/local/lib/python3.7/dist-packages/tensorflow/python/keras/engine/sequential.py:450: UserWarning: `model.predict_classes()` is deprecated and will be removed after 2021-01-01. Please use instead:* `np.argmax(model.predict(x), axis=-1)`,   if your model does multi-class classification   (e.g. if it uses a `softmax` last-layer activation).* `(model.predict(x) > 0.5).astype(\"int32\")`,   if your model does binary classification   (e.g. if it uses a `sigmoid` last-layer activation).\n",
            "  warnings.warn('`model.predict_classes()` is deprecated and '\n"
          ],
          "name": "stderr"
        }
      ]
    },
    {
      "cell_type": "code",
      "metadata": {
        "colab": {
          "base_uri": "https://localhost:8080/",
          "height": 265
        },
        "id": "Ch8GnkEOQYwo",
        "outputId": "1ee76697-9fcd-4302-a054-bcdbfb4c81c3"
      },
      "source": [
        "# Confusion matrix\r\n",
        "from sklearn.metrics import confusion_matrix\r\n",
        "import seaborn as sns\r\n",
        "cm=confusion_matrix(np.array(Y_actual), np.array(Y_test))\r\n",
        "sns.heatmap(cm, cmap='plasma', annot=True)\r\n",
        "plt.show()"
      ],
      "execution_count": 29,
      "outputs": [
        {
          "output_type": "display_data",
          "data": {
            "image/png": "[encoded data removed]",
            "text/plain": [
              "<Figure size 432x288 with 2 Axes>"
            ]
          },
          "metadata": {
            "tags": [],
            "needs_background": "light"
          }
        }
      ]
    },
    {
      "cell_type": "code",
      "metadata": {
        "id": "kQFOQqLLRQG_"
      },
      "source": [
        ""
      ],
      "execution_count": null,
      "outputs": []
    }
  ]
}